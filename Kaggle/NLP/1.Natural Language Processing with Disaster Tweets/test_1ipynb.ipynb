{
 "cells": [
  {
   "cell_type": "code",
   "execution_count": 2,
   "metadata": {},
   "outputs": [],
   "source": [
    "# 导入Python的垃圾回收模块，用于手动控制内存回收，提高程序效率  \n",
    "import gc  \n",
    "  \n",
    "# 导入Python的正则表达式库，用于字符串的匹配和替换等操作  \n",
    "import re  \n",
    "  \n",
    "# 导入Python的字符串处理库，提供了一些常用的字符串处理方法  \n",
    "import string  \n",
    "  \n",
    "# 导入Python的操作符库，提供了一些常用的操作符函数  \n",
    "import operator  \n",
    "  \n",
    "# 从collections模块导入defaultdict，这是一种默认值字典，当访问不存在的键时会自动创建一个默认值  \n",
    "from collections import defaultdict  \n",
    "  \n",
    "# 导入NumPy库，并将其简写为np，用于处理数组和矩阵等操作  \n",
    "import numpy as np  \n",
    "  \n",
    "# 导入pandas库，并将其简写为pd，用于数据处理和分析  \n",
    "import pandas as pd  \n",
    "  "
   ]
  }
 ],
 "metadata": {
  "kernelspec": {
   "display_name": "Python 3",
   "language": "python",
   "name": "python3"
  },
  "language_info": {
   "codemirror_mode": {
    "name": "ipython",
    "version": 3
   },
   "file_extension": ".py",
   "mimetype": "text/x-python",
   "name": "python",
   "nbconvert_exporter": "python",
   "pygments_lexer": "ipython3",
   "version": "3.10.6"
  }
 },
 "nbformat": 4,
 "nbformat_minor": 2
}
